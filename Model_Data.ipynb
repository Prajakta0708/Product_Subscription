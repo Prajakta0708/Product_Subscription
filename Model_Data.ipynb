{
 "cells": [
  {
   "cell_type": "markdown",
   "metadata": {},
   "source": [
    "## Log Reg"
   ]
  },
  {
   "cell_type": "code",
   "execution_count": 2,
   "metadata": {},
   "outputs": [
    {
     "data": {
      "text/html": [
       "<div>\n",
       "<style scoped>\n",
       "    .dataframe tbody tr th:only-of-type {\n",
       "        vertical-align: middle;\n",
       "    }\n",
       "\n",
       "    .dataframe tbody tr th {\n",
       "        vertical-align: top;\n",
       "    }\n",
       "\n",
       "    .dataframe thead th {\n",
       "        text-align: right;\n",
       "    }\n",
       "</style>\n",
       "<table border=\"1\" class=\"dataframe\">\n",
       "  <thead>\n",
       "    <tr style=\"text-align: right;\">\n",
       "      <th></th>\n",
       "      <th>id</th>\n",
       "      <th>extract_date</th>\n",
       "      <th>skill</th>\n",
       "      <th>job</th>\n",
       "      <th>purpose</th>\n",
       "      <th>target_group</th>\n",
       "      <th>business_group</th>\n",
       "      <th>business_segment</th>\n",
       "      <th>signup_source</th>\n",
       "      <th>signup_category</th>\n",
       "      <th>first_cc_subscription_dts</th>\n",
       "      <th>country_code</th>\n",
       "      <th>product_id</th>\n",
       "      <th>download_attempts</th>\n",
       "      <th>product_platforms</th>\n",
       "      <th>machines</th>\n",
       "      <th>error_codes</th>\n",
       "      <th>label</th>\n",
       "    </tr>\n",
       "  </thead>\n",
       "  <tbody>\n",
       "    <tr>\n",
       "      <td>0</td>\n",
       "      <td>0002e93c8519f24cc642ca462ef49956</td>\n",
       "      <td>10/1/2017</td>\n",
       "      <td>BEGINNER</td>\n",
       "      <td>ACADEMIC</td>\n",
       "      <td>ME_PROFESSIONAL</td>\n",
       "      <td>HED - ED/FAC/STAFF</td>\n",
       "      <td>EDUCATION</td>\n",
       "      <td>EDU STUDENT STAFF</td>\n",
       "      <td>Creative Cloud</td>\n",
       "      <td>DESKTOP</td>\n",
       "      <td>3/12/2017 11:44</td>\n",
       "      <td>US</td>\n",
       "      <td>PHSP:APRO</td>\n",
       "      <td>2.0</td>\n",
       "      <td>MAC</td>\n",
       "      <td>1.0</td>\n",
       "      <td>NaN</td>\n",
       "      <td>0</td>\n",
       "    </tr>\n",
       "    <tr>\n",
       "      <td>1</td>\n",
       "      <td>0003b2d98410d0350070961653b8c3bc</td>\n",
       "      <td>10/1/2017</td>\n",
       "      <td>BEGINNER</td>\n",
       "      <td>ACADEMIC</td>\n",
       "      <td>ME_PROFESSIONAL</td>\n",
       "      <td>EDGEN - AD/ED/FAC/STAFF</td>\n",
       "      <td>EDUCATION</td>\n",
       "      <td>EDU STUDENT STAFF</td>\n",
       "      <td>Renga Auto Provisioning</td>\n",
       "      <td>DESKTOP</td>\n",
       "      <td>5/29/2017 15:35</td>\n",
       "      <td>US</td>\n",
       "      <td>APRO</td>\n",
       "      <td>1.0</td>\n",
       "      <td>WIN</td>\n",
       "      <td>0.0</td>\n",
       "      <td>NaN</td>\n",
       "      <td>0</td>\n",
       "    </tr>\n",
       "    <tr>\n",
       "      <td>2</td>\n",
       "      <td>00093099e0d8d7c3d60a22e2883ad63d</td>\n",
       "      <td>10/1/2017</td>\n",
       "      <td>BEGINNER</td>\n",
       "      <td>NaN</td>\n",
       "      <td>NaN</td>\n",
       "      <td>HOBBYIST</td>\n",
       "      <td>HOBBYIST</td>\n",
       "      <td>PHOTO</td>\n",
       "      <td>Draw (iOS)</td>\n",
       "      <td>MOBILE</td>\n",
       "      <td>6/10/2017 1:04</td>\n",
       "      <td>US</td>\n",
       "      <td>ILST:PHSP</td>\n",
       "      <td>3.0</td>\n",
       "      <td>MAC:WIN</td>\n",
       "      <td>1.0</td>\n",
       "      <td>NaN</td>\n",
       "      <td>0</td>\n",
       "    </tr>\n",
       "    <tr>\n",
       "      <td>3</td>\n",
       "      <td>000eb7f4b843c451d98a249e85328b05</td>\n",
       "      <td>10/1/2017</td>\n",
       "      <td>BEGINNER</td>\n",
       "      <td>STUDENT</td>\n",
       "      <td>ME_NONPROFESSIONAL</td>\n",
       "      <td>EDGEN - STUDENT</td>\n",
       "      <td>EDUCATION</td>\n",
       "      <td>EDU STUDENT STAFF</td>\n",
       "      <td>Renga Auto Provisioning</td>\n",
       "      <td>DESKTOP</td>\n",
       "      <td>1/21/2017 18:33</td>\n",
       "      <td>US</td>\n",
       "      <td>PPRO:AME</td>\n",
       "      <td>2.0</td>\n",
       "      <td>WIN</td>\n",
       "      <td>1.0</td>\n",
       "      <td>NaN</td>\n",
       "      <td>0</td>\n",
       "    </tr>\n",
       "    <tr>\n",
       "      <td>4</td>\n",
       "      <td>001134540564124eb2f767cb0905053c</td>\n",
       "      <td>10/1/2017</td>\n",
       "      <td>BEGINNER</td>\n",
       "      <td>STUDENT</td>\n",
       "      <td>ME_PROFESSIONAL</td>\n",
       "      <td>EDGEN - STUDENT</td>\n",
       "      <td>EDUCATION</td>\n",
       "      <td>EDU STUDENT STAFF</td>\n",
       "      <td>Renga Auto Provisioning</td>\n",
       "      <td>DESKTOP</td>\n",
       "      <td>6/23/2017 14:46</td>\n",
       "      <td>US</td>\n",
       "      <td>IDSN</td>\n",
       "      <td>1.0</td>\n",
       "      <td>MAC</td>\n",
       "      <td>0.0</td>\n",
       "      <td>NaN</td>\n",
       "      <td>0</td>\n",
       "    </tr>\n",
       "  </tbody>\n",
       "</table>\n",
       "</div>"
      ],
      "text/plain": [
       "                                 id extract_date     skill       job  \\\n",
       "0  0002e93c8519f24cc642ca462ef49956    10/1/2017  BEGINNER  ACADEMIC   \n",
       "1  0003b2d98410d0350070961653b8c3bc    10/1/2017  BEGINNER  ACADEMIC   \n",
       "2  00093099e0d8d7c3d60a22e2883ad63d    10/1/2017  BEGINNER       NaN   \n",
       "3  000eb7f4b843c451d98a249e85328b05    10/1/2017  BEGINNER   STUDENT   \n",
       "4  001134540564124eb2f767cb0905053c    10/1/2017  BEGINNER   STUDENT   \n",
       "\n",
       "              purpose             target_group business_group  \\\n",
       "0     ME_PROFESSIONAL       HED - ED/FAC/STAFF      EDUCATION   \n",
       "1     ME_PROFESSIONAL  EDGEN - AD/ED/FAC/STAFF      EDUCATION   \n",
       "2                 NaN                 HOBBYIST       HOBBYIST   \n",
       "3  ME_NONPROFESSIONAL          EDGEN - STUDENT      EDUCATION   \n",
       "4     ME_PROFESSIONAL          EDGEN - STUDENT      EDUCATION   \n",
       "\n",
       "    business_segment            signup_source signup_category  \\\n",
       "0  EDU STUDENT STAFF           Creative Cloud         DESKTOP   \n",
       "1  EDU STUDENT STAFF  Renga Auto Provisioning         DESKTOP   \n",
       "2              PHOTO               Draw (iOS)          MOBILE   \n",
       "3  EDU STUDENT STAFF  Renga Auto Provisioning         DESKTOP   \n",
       "4  EDU STUDENT STAFF  Renga Auto Provisioning         DESKTOP   \n",
       "\n",
       "  first_cc_subscription_dts country_code product_id  download_attempts  \\\n",
       "0           3/12/2017 11:44           US  PHSP:APRO                2.0   \n",
       "1           5/29/2017 15:35           US       APRO                1.0   \n",
       "2            6/10/2017 1:04           US  ILST:PHSP                3.0   \n",
       "3           1/21/2017 18:33           US   PPRO:AME                2.0   \n",
       "4           6/23/2017 14:46           US       IDSN                1.0   \n",
       "\n",
       "  product_platforms  machines error_codes  label  \n",
       "0               MAC       1.0         NaN      0  \n",
       "1               WIN       0.0         NaN      0  \n",
       "2           MAC:WIN       1.0         NaN      0  \n",
       "3               WIN       1.0         NaN      0  \n",
       "4               MAC       0.0         NaN      0  "
      ]
     },
     "execution_count": 2,
     "metadata": {},
     "output_type": "execute_result"
    }
   ],
   "source": [
    "import pandas as pd\n",
    "mod=pd.read_csv(\"E:\\PrajaktaR\\DataSets/modeldata.csv\")\n",
    "mod.head()"
   ]
  },
  {
   "cell_type": "code",
   "execution_count": 3,
   "metadata": {},
   "outputs": [],
   "source": [
    "mod=mod.drop([\"id\",\"extract_date\",\"first_cc_subscription_dts\",\"error_codes\"],axis=1)"
   ]
  },
  {
   "cell_type": "code",
   "execution_count": 4,
   "metadata": {},
   "outputs": [
    {
     "data": {
      "text/html": [
       "<div>\n",
       "<style scoped>\n",
       "    .dataframe tbody tr th:only-of-type {\n",
       "        vertical-align: middle;\n",
       "    }\n",
       "\n",
       "    .dataframe tbody tr th {\n",
       "        vertical-align: top;\n",
       "    }\n",
       "\n",
       "    .dataframe thead th {\n",
       "        text-align: right;\n",
       "    }\n",
       "</style>\n",
       "<table border=\"1\" class=\"dataframe\">\n",
       "  <thead>\n",
       "    <tr style=\"text-align: right;\">\n",
       "      <th></th>\n",
       "      <th>skill</th>\n",
       "      <th>job</th>\n",
       "      <th>purpose</th>\n",
       "      <th>target_group</th>\n",
       "      <th>business_group</th>\n",
       "      <th>business_segment</th>\n",
       "      <th>signup_source</th>\n",
       "      <th>signup_category</th>\n",
       "      <th>country_code</th>\n",
       "      <th>product_id</th>\n",
       "      <th>download_attempts</th>\n",
       "      <th>product_platforms</th>\n",
       "      <th>machines</th>\n",
       "      <th>label</th>\n",
       "    </tr>\n",
       "  </thead>\n",
       "  <tbody>\n",
       "    <tr>\n",
       "      <td>0</td>\n",
       "      <td>BEGINNER</td>\n",
       "      <td>ACADEMIC</td>\n",
       "      <td>ME_PROFESSIONAL</td>\n",
       "      <td>HED - ED/FAC/STAFF</td>\n",
       "      <td>EDUCATION</td>\n",
       "      <td>EDU STUDENT STAFF</td>\n",
       "      <td>Creative Cloud</td>\n",
       "      <td>DESKTOP</td>\n",
       "      <td>US</td>\n",
       "      <td>PHSP:APRO</td>\n",
       "      <td>2.0</td>\n",
       "      <td>MAC</td>\n",
       "      <td>1.0</td>\n",
       "      <td>0</td>\n",
       "    </tr>\n",
       "    <tr>\n",
       "      <td>1</td>\n",
       "      <td>BEGINNER</td>\n",
       "      <td>ACADEMIC</td>\n",
       "      <td>ME_PROFESSIONAL</td>\n",
       "      <td>EDGEN - AD/ED/FAC/STAFF</td>\n",
       "      <td>EDUCATION</td>\n",
       "      <td>EDU STUDENT STAFF</td>\n",
       "      <td>Renga Auto Provisioning</td>\n",
       "      <td>DESKTOP</td>\n",
       "      <td>US</td>\n",
       "      <td>APRO</td>\n",
       "      <td>1.0</td>\n",
       "      <td>WIN</td>\n",
       "      <td>0.0</td>\n",
       "      <td>0</td>\n",
       "    </tr>\n",
       "    <tr>\n",
       "      <td>2</td>\n",
       "      <td>BEGINNER</td>\n",
       "      <td>NaN</td>\n",
       "      <td>NaN</td>\n",
       "      <td>HOBBYIST</td>\n",
       "      <td>HOBBYIST</td>\n",
       "      <td>PHOTO</td>\n",
       "      <td>Draw (iOS)</td>\n",
       "      <td>MOBILE</td>\n",
       "      <td>US</td>\n",
       "      <td>ILST:PHSP</td>\n",
       "      <td>3.0</td>\n",
       "      <td>MAC:WIN</td>\n",
       "      <td>1.0</td>\n",
       "      <td>0</td>\n",
       "    </tr>\n",
       "    <tr>\n",
       "      <td>3</td>\n",
       "      <td>BEGINNER</td>\n",
       "      <td>STUDENT</td>\n",
       "      <td>ME_NONPROFESSIONAL</td>\n",
       "      <td>EDGEN - STUDENT</td>\n",
       "      <td>EDUCATION</td>\n",
       "      <td>EDU STUDENT STAFF</td>\n",
       "      <td>Renga Auto Provisioning</td>\n",
       "      <td>DESKTOP</td>\n",
       "      <td>US</td>\n",
       "      <td>PPRO:AME</td>\n",
       "      <td>2.0</td>\n",
       "      <td>WIN</td>\n",
       "      <td>1.0</td>\n",
       "      <td>0</td>\n",
       "    </tr>\n",
       "    <tr>\n",
       "      <td>4</td>\n",
       "      <td>BEGINNER</td>\n",
       "      <td>STUDENT</td>\n",
       "      <td>ME_PROFESSIONAL</td>\n",
       "      <td>EDGEN - STUDENT</td>\n",
       "      <td>EDUCATION</td>\n",
       "      <td>EDU STUDENT STAFF</td>\n",
       "      <td>Renga Auto Provisioning</td>\n",
       "      <td>DESKTOP</td>\n",
       "      <td>US</td>\n",
       "      <td>IDSN</td>\n",
       "      <td>1.0</td>\n",
       "      <td>MAC</td>\n",
       "      <td>0.0</td>\n",
       "      <td>0</td>\n",
       "    </tr>\n",
       "  </tbody>\n",
       "</table>\n",
       "</div>"
      ],
      "text/plain": [
       "      skill       job             purpose             target_group  \\\n",
       "0  BEGINNER  ACADEMIC     ME_PROFESSIONAL       HED - ED/FAC/STAFF   \n",
       "1  BEGINNER  ACADEMIC     ME_PROFESSIONAL  EDGEN - AD/ED/FAC/STAFF   \n",
       "2  BEGINNER       NaN                 NaN                 HOBBYIST   \n",
       "3  BEGINNER   STUDENT  ME_NONPROFESSIONAL          EDGEN - STUDENT   \n",
       "4  BEGINNER   STUDENT     ME_PROFESSIONAL          EDGEN - STUDENT   \n",
       "\n",
       "  business_group   business_segment            signup_source signup_category  \\\n",
       "0      EDUCATION  EDU STUDENT STAFF           Creative Cloud         DESKTOP   \n",
       "1      EDUCATION  EDU STUDENT STAFF  Renga Auto Provisioning         DESKTOP   \n",
       "2       HOBBYIST              PHOTO               Draw (iOS)          MOBILE   \n",
       "3      EDUCATION  EDU STUDENT STAFF  Renga Auto Provisioning         DESKTOP   \n",
       "4      EDUCATION  EDU STUDENT STAFF  Renga Auto Provisioning         DESKTOP   \n",
       "\n",
       "  country_code product_id  download_attempts product_platforms  machines  \\\n",
       "0           US  PHSP:APRO                2.0               MAC       1.0   \n",
       "1           US       APRO                1.0               WIN       0.0   \n",
       "2           US  ILST:PHSP                3.0           MAC:WIN       1.0   \n",
       "3           US   PPRO:AME                2.0               WIN       1.0   \n",
       "4           US       IDSN                1.0               MAC       0.0   \n",
       "\n",
       "   label  \n",
       "0      0  \n",
       "1      0  \n",
       "2      0  \n",
       "3      0  \n",
       "4      0  "
      ]
     },
     "execution_count": 4,
     "metadata": {},
     "output_type": "execute_result"
    }
   ],
   "source": [
    "mod.head()"
   ]
  },
  {
   "cell_type": "code",
   "execution_count": 5,
   "metadata": {},
   "outputs": [
    {
     "data": {
      "text/plain": [
       "skill                     0\n",
       "job                  164644\n",
       "purpose              164660\n",
       "target_group              0\n",
       "business_group            0\n",
       "business_segment         25\n",
       "signup_source             0\n",
       "signup_category           0\n",
       "country_code              0\n",
       "product_id           113298\n",
       "download_attempts    113298\n",
       "product_platforms    113298\n",
       "machines             113298\n",
       "label                     0\n",
       "dtype: int64"
      ]
     },
     "execution_count": 5,
     "metadata": {},
     "output_type": "execute_result"
    }
   ],
   "source": [
    "mod.isnull().sum()"
   ]
  },
  {
   "cell_type": "code",
   "execution_count": 6,
   "metadata": {},
   "outputs": [],
   "source": [
    "mod.job=mod.job.fillna(\"other\")\n",
    "mod.purpose=mod.purpose.fillna(\"null\")\n",
    "mod.business_segment=mod.business_segment.fillna(\"0\")\n",
    "mod.product_id=mod.product_id.fillna(\"A\")\n",
    "mod.download_attempts=mod.download_attempts.fillna(mod.download_attempts.mean())\n",
    "mod.machines=mod.machines.fillna(mod.machines.mean())\n",
    "mod.product_platforms=mod.product_platforms.fillna(\"W\")"
   ]
  },
  {
   "cell_type": "code",
   "execution_count": 7,
   "metadata": {},
   "outputs": [],
   "source": [
    "from sklearn.preprocessing import LabelEncoder\n",
    "le=LabelEncoder()"
   ]
  },
  {
   "cell_type": "code",
   "execution_count": 8,
   "metadata": {},
   "outputs": [],
   "source": [
    "X=mod\n",
    "for i in range(0,X.shape[1]):\n",
    "    if X.dtypes[i]=='object':\n",
    "        X[X.columns[i]]=le.fit_transform(X[X.columns[i]])"
   ]
  },
  {
   "cell_type": "code",
   "execution_count": 9,
   "metadata": {},
   "outputs": [
    {
     "data": {
      "text/html": [
       "<div>\n",
       "<style scoped>\n",
       "    .dataframe tbody tr th:only-of-type {\n",
       "        vertical-align: middle;\n",
       "    }\n",
       "\n",
       "    .dataframe tbody tr th {\n",
       "        vertical-align: top;\n",
       "    }\n",
       "\n",
       "    .dataframe thead th {\n",
       "        text-align: right;\n",
       "    }\n",
       "</style>\n",
       "<table border=\"1\" class=\"dataframe\">\n",
       "  <thead>\n",
       "    <tr style=\"text-align: right;\">\n",
       "      <th></th>\n",
       "      <th>skill</th>\n",
       "      <th>job</th>\n",
       "      <th>purpose</th>\n",
       "      <th>target_group</th>\n",
       "      <th>business_group</th>\n",
       "      <th>business_segment</th>\n",
       "      <th>signup_source</th>\n",
       "      <th>signup_category</th>\n",
       "      <th>country_code</th>\n",
       "      <th>product_id</th>\n",
       "      <th>download_attempts</th>\n",
       "      <th>product_platforms</th>\n",
       "      <th>machines</th>\n",
       "      <th>label</th>\n",
       "    </tr>\n",
       "  </thead>\n",
       "  <tbody>\n",
       "    <tr>\n",
       "      <td>0</td>\n",
       "      <td>0</td>\n",
       "      <td>0</td>\n",
       "      <td>1</td>\n",
       "      <td>17</td>\n",
       "      <td>5</td>\n",
       "      <td>2</td>\n",
       "      <td>24</td>\n",
       "      <td>1</td>\n",
       "      <td>38</td>\n",
       "      <td>24328</td>\n",
       "      <td>2.0</td>\n",
       "      <td>0</td>\n",
       "      <td>1.0</td>\n",
       "      <td>0</td>\n",
       "    </tr>\n",
       "    <tr>\n",
       "      <td>1</td>\n",
       "      <td>0</td>\n",
       "      <td>0</td>\n",
       "      <td>1</td>\n",
       "      <td>12</td>\n",
       "      <td>5</td>\n",
       "      <td>2</td>\n",
       "      <td>85</td>\n",
       "      <td>1</td>\n",
       "      <td>38</td>\n",
       "      <td>7313</td>\n",
       "      <td>1.0</td>\n",
       "      <td>3</td>\n",
       "      <td>0.0</td>\n",
       "      <td>0</td>\n",
       "    </tr>\n",
       "    <tr>\n",
       "      <td>2</td>\n",
       "      <td>0</td>\n",
       "      <td>14</td>\n",
       "      <td>5</td>\n",
       "      <td>19</td>\n",
       "      <td>6</td>\n",
       "      <td>5</td>\n",
       "      <td>27</td>\n",
       "      <td>3</td>\n",
       "      <td>38</td>\n",
       "      <td>17507</td>\n",
       "      <td>3.0</td>\n",
       "      <td>1</td>\n",
       "      <td>1.0</td>\n",
       "      <td>0</td>\n",
       "    </tr>\n",
       "    <tr>\n",
       "      <td>3</td>\n",
       "      <td>0</td>\n",
       "      <td>10</td>\n",
       "      <td>0</td>\n",
       "      <td>13</td>\n",
       "      <td>5</td>\n",
       "      <td>2</td>\n",
       "      <td>85</td>\n",
       "      <td>1</td>\n",
       "      <td>38</td>\n",
       "      <td>28424</td>\n",
       "      <td>2.0</td>\n",
       "      <td>3</td>\n",
       "      <td>1.0</td>\n",
       "      <td>0</td>\n",
       "    </tr>\n",
       "    <tr>\n",
       "      <td>4</td>\n",
       "      <td>0</td>\n",
       "      <td>10</td>\n",
       "      <td>1</td>\n",
       "      <td>13</td>\n",
       "      <td>5</td>\n",
       "      <td>2</td>\n",
       "      <td>85</td>\n",
       "      <td>1</td>\n",
       "      <td>38</td>\n",
       "      <td>12938</td>\n",
       "      <td>1.0</td>\n",
       "      <td>0</td>\n",
       "      <td>0.0</td>\n",
       "      <td>0</td>\n",
       "    </tr>\n",
       "  </tbody>\n",
       "</table>\n",
       "</div>"
      ],
      "text/plain": [
       "   skill  job  purpose  target_group  business_group  business_segment  \\\n",
       "0      0    0        1            17               5                 2   \n",
       "1      0    0        1            12               5                 2   \n",
       "2      0   14        5            19               6                 5   \n",
       "3      0   10        0            13               5                 2   \n",
       "4      0   10        1            13               5                 2   \n",
       "\n",
       "   signup_source  signup_category  country_code  product_id  \\\n",
       "0             24                1            38       24328   \n",
       "1             85                1            38        7313   \n",
       "2             27                3            38       17507   \n",
       "3             85                1            38       28424   \n",
       "4             85                1            38       12938   \n",
       "\n",
       "   download_attempts  product_platforms  machines  label  \n",
       "0                2.0                  0       1.0      0  \n",
       "1                1.0                  3       0.0      0  \n",
       "2                3.0                  1       1.0      0  \n",
       "3                2.0                  3       1.0      0  \n",
       "4                1.0                  0       0.0      0  "
      ]
     },
     "execution_count": 9,
     "metadata": {},
     "output_type": "execute_result"
    }
   ],
   "source": [
    "mod.head()"
   ]
  },
  {
   "cell_type": "code",
   "execution_count": 10,
   "metadata": {},
   "outputs": [],
   "source": [
    "mod_x=mod.drop([\"label\"],axis=1)\n",
    "mod_y=mod.label"
   ]
  },
  {
   "cell_type": "code",
   "execution_count": 11,
   "metadata": {},
   "outputs": [],
   "source": [
    "from sklearn.model_selection import train_test_split\n",
    "mod_x_train,mod_x_test,mod_y_train,mod_y_test=train_test_split(mod_x,mod_y,test_size=0.2,random_state=101)"
   ]
  },
  {
   "cell_type": "code",
   "execution_count": 11,
   "metadata": {},
   "outputs": [
    {
     "data": {
      "text/plain": [
       "(247158, 13)"
      ]
     },
     "execution_count": 11,
     "metadata": {},
     "output_type": "execute_result"
    }
   ],
   "source": [
    "mod_x_train.shape"
   ]
  },
  {
   "cell_type": "code",
   "execution_count": 12,
   "metadata": {},
   "outputs": [
    {
     "data": {
      "text/plain": [
       "(247158,)"
      ]
     },
     "execution_count": 12,
     "metadata": {},
     "output_type": "execute_result"
    }
   ],
   "source": [
    "mod_y_train.shape"
   ]
  },
  {
   "cell_type": "code",
   "execution_count": 13,
   "metadata": {},
   "outputs": [
    {
     "data": {
      "text/plain": [
       "(61790, 13)"
      ]
     },
     "execution_count": 13,
     "metadata": {},
     "output_type": "execute_result"
    }
   ],
   "source": [
    "mod_x_test.shape"
   ]
  },
  {
   "cell_type": "code",
   "execution_count": 14,
   "metadata": {},
   "outputs": [
    {
     "data": {
      "text/plain": [
       "(61790,)"
      ]
     },
     "execution_count": 14,
     "metadata": {},
     "output_type": "execute_result"
    }
   ],
   "source": [
    "mod_y_test.shape"
   ]
  },
  {
   "cell_type": "code",
   "execution_count": 89,
   "metadata": {},
   "outputs": [
    {
     "name": "stderr",
     "output_type": "stream",
     "text": [
      "C:\\Users\\hp\\Anaconda3\\lib\\site-packages\\sklearn\\linear_model\\logistic.py:432: FutureWarning: Default solver will be changed to 'lbfgs' in 0.22. Specify a solver to silence this warning.\n",
      "  FutureWarning)\n"
     ]
    },
    {
     "data": {
      "text/plain": [
       "LogisticRegression(C=1.0, class_weight=None, dual=False, fit_intercept=True,\n",
       "                   intercept_scaling=1, l1_ratio=None, max_iter=100,\n",
       "                   multi_class='warn', n_jobs=None, penalty='l2',\n",
       "                   random_state=None, solver='warn', tol=0.0001, verbose=0,\n",
       "                   warm_start=False)"
      ]
     },
     "execution_count": 89,
     "metadata": {},
     "output_type": "execute_result"
    }
   ],
   "source": [
    "from sklearn.linear_model import LogisticRegression\n",
    "mod_log=LogisticRegression()\n",
    "mod_log.fit(mod_x_train,mod_y_train)"
   ]
  },
  {
   "cell_type": "code",
   "execution_count": 90,
   "metadata": {},
   "outputs": [],
   "source": [
    "pred1=mod_log.predict(mod_x_test)"
   ]
  },
  {
   "cell_type": "code",
   "execution_count": 91,
   "metadata": {},
   "outputs": [
    {
     "data": {
      "text/plain": [
       "array([[58404,  3386],\n",
       "       [    0,     0]], dtype=int64)"
      ]
     },
     "execution_count": 91,
     "metadata": {},
     "output_type": "execute_result"
    }
   ],
   "source": [
    "from sklearn.metrics import confusion_matrix\n",
    "tab1=confusion_matrix(pred1,mod_y_test)\n",
    "tab1"
   ]
  },
  {
   "cell_type": "code",
   "execution_count": 92,
   "metadata": {},
   "outputs": [
    {
     "data": {
      "text/plain": [
       "0.9452014889140637"
      ]
     },
     "execution_count": 92,
     "metadata": {},
     "output_type": "execute_result"
    }
   ],
   "source": [
    "tab1.diagonal().sum()/tab1.sum()"
   ]
  },
  {
   "cell_type": "code",
   "execution_count": 102,
   "metadata": {},
   "outputs": [
    {
     "data": {
      "text/plain": [
       "array([0], dtype=int64)"
      ]
     },
     "execution_count": 102,
     "metadata": {},
     "output_type": "execute_result"
    }
   ],
   "source": [
    "import numpy as np\n",
    "np.unique(pred1)"
   ]
  },
  {
   "cell_type": "code",
   "execution_count": 123,
   "metadata": {},
   "outputs": [],
   "source": [
    "#over sampling\n",
    "from sklearn.utils import resample\n",
    "df_majority=mod[mod.label==0]\n",
    "df_minority=mod[mod.label==1]"
   ]
  },
  {
   "cell_type": "code",
   "execution_count": 124,
   "metadata": {},
   "outputs": [
    {
     "data": {
      "text/plain": [
       "0    292369\n",
       "1     16579\n",
       "Name: label, dtype: int64"
      ]
     },
     "execution_count": 124,
     "metadata": {},
     "output_type": "execute_result"
    }
   ],
   "source": [
    "mod.label.value_counts()"
   ]
  },
  {
   "cell_type": "code",
   "execution_count": 125,
   "metadata": {},
   "outputs": [],
   "source": [
    "df_mod=resample(df_minority,replace=True,n_samples=292369,random_state=101)"
   ]
  },
  {
   "cell_type": "code",
   "execution_count": 126,
   "metadata": {},
   "outputs": [],
   "source": [
    "mod_new=pd.concat([df_majority, df_mod])"
   ]
  },
  {
   "cell_type": "code",
   "execution_count": 127,
   "metadata": {},
   "outputs": [],
   "source": [
    "mod_new_x=mod_new.drop([\"label\"],axis=1)\n",
    "mod_new_y=mod_new.label"
   ]
  },
  {
   "cell_type": "code",
   "execution_count": 129,
   "metadata": {},
   "outputs": [],
   "source": [
    "from sklearn.model_selection import train_test_split\n",
    "mod_x_train,mod_x_test,mod_y_train,mod_y_test=train_test_split(mod_new_x,mod_new_y,test_size=0.2,random_state=101)"
   ]
  },
  {
   "cell_type": "code",
   "execution_count": 134,
   "metadata": {},
   "outputs": [
    {
     "name": "stderr",
     "output_type": "stream",
     "text": [
      "C:\\Users\\hp\\Anaconda3\\lib\\site-packages\\sklearn\\linear_model\\logistic.py:432: FutureWarning: Default solver will be changed to 'lbfgs' in 0.22. Specify a solver to silence this warning.\n",
      "  FutureWarning)\n"
     ]
    },
    {
     "data": {
      "text/plain": [
       "LogisticRegression(C=1.0, class_weight=None, dual=False, fit_intercept=True,\n",
       "                   intercept_scaling=1, l1_ratio=None, max_iter=100,\n",
       "                   multi_class='warn', n_jobs=None, penalty='l2',\n",
       "                   random_state=None, solver='warn', tol=0.0001, verbose=0,\n",
       "                   warm_start=False)"
      ]
     },
     "execution_count": 134,
     "metadata": {},
     "output_type": "execute_result"
    }
   ],
   "source": [
    "from sklearn.linear_model import LogisticRegression\n",
    "mod_log=LogisticRegression()\n",
    "mod_log.fit(mod_x_train,mod_y_train)"
   ]
  },
  {
   "cell_type": "code",
   "execution_count": 135,
   "metadata": {},
   "outputs": [],
   "source": [
    "pred_new=mod_log.predict(mod_x_test)"
   ]
  },
  {
   "cell_type": "code",
   "execution_count": 137,
   "metadata": {},
   "outputs": [
    {
     "data": {
      "text/plain": [
       "array([[34686, 24278],\n",
       "       [23961, 34023]], dtype=int64)"
      ]
     },
     "execution_count": 137,
     "metadata": {},
     "output_type": "execute_result"
    }
   ],
   "source": [
    "from sklearn.metrics import confusion_matrix\n",
    "tab=confusion_matrix(pred_new,mod_y_test)\n",
    "tab"
   ]
  },
  {
   "cell_type": "code",
   "execution_count": 138,
   "metadata": {},
   "outputs": [
    {
     "data": {
      "text/plain": [
       "0.5875175291582584"
      ]
     },
     "execution_count": 138,
     "metadata": {},
     "output_type": "execute_result"
    }
   ],
   "source": [
    "tab.diagonal().sum()/tab.sum()"
   ]
  },
  {
   "cell_type": "markdown",
   "metadata": {},
   "source": [
    "## Decision Tree"
   ]
  },
  {
   "cell_type": "code",
   "execution_count": 93,
   "metadata": {},
   "outputs": [
    {
     "data": {
      "text/plain": [
       "DecisionTreeClassifier(class_weight=None, criterion='gini', max_depth=None,\n",
       "                       max_features=None, max_leaf_nodes=None,\n",
       "                       min_impurity_decrease=0.0, min_impurity_split=None,\n",
       "                       min_samples_leaf=1, min_samples_split=2,\n",
       "                       min_weight_fraction_leaf=0.0, presort=False,\n",
       "                       random_state=None, splitter='best')"
      ]
     },
     "execution_count": 93,
     "metadata": {},
     "output_type": "execute_result"
    }
   ],
   "source": [
    "from sklearn.tree import DecisionTreeClassifier\n",
    "mod_dt=DecisionTreeClassifier()\n",
    "mod_dt.fit(mod_x_train,mod_y_train)"
   ]
  },
  {
   "cell_type": "code",
   "execution_count": 94,
   "metadata": {},
   "outputs": [],
   "source": [
    "pred2=mod_dt.predict(mod_x_test)"
   ]
  },
  {
   "cell_type": "code",
   "execution_count": 95,
   "metadata": {},
   "outputs": [
    {
     "data": {
      "text/plain": [
       "array([[56494,  3143],\n",
       "       [ 1910,   243]], dtype=int64)"
      ]
     },
     "execution_count": 95,
     "metadata": {},
     "output_type": "execute_result"
    }
   ],
   "source": [
    "from sklearn.metrics import confusion_matrix\n",
    "tab2=confusion_matrix(pred2,mod_y_test)\n",
    "tab2"
   ]
  },
  {
   "cell_type": "code",
   "execution_count": 96,
   "metadata": {},
   "outputs": [
    {
     "data": {
      "text/plain": [
       "0.9182230134325943"
      ]
     },
     "execution_count": 96,
     "metadata": {},
     "output_type": "execute_result"
    }
   ],
   "source": [
    "tab2.diagonal().sum()/tab2.sum()"
   ]
  },
  {
   "cell_type": "markdown",
   "metadata": {},
   "source": [
    "## Random Forest"
   ]
  },
  {
   "cell_type": "code",
   "execution_count": 98,
   "metadata": {},
   "outputs": [
    {
     "name": "stderr",
     "output_type": "stream",
     "text": [
      "C:\\Users\\hp\\Anaconda3\\lib\\site-packages\\sklearn\\ensemble\\forest.py:245: FutureWarning: The default value of n_estimators will change from 10 in version 0.20 to 100 in 0.22.\n",
      "  \"10 in version 0.20 to 100 in 0.22.\", FutureWarning)\n"
     ]
    },
    {
     "data": {
      "text/plain": [
       "RandomForestClassifier(bootstrap=True, class_weight=None, criterion='gini',\n",
       "                       max_depth=None, max_features='auto', max_leaf_nodes=None,\n",
       "                       min_impurity_decrease=0.0, min_impurity_split=None,\n",
       "                       min_samples_leaf=1, min_samples_split=2,\n",
       "                       min_weight_fraction_leaf=0.0, n_estimators=10,\n",
       "                       n_jobs=None, oob_score=False, random_state=None,\n",
       "                       verbose=0, warm_start=False)"
      ]
     },
     "execution_count": 98,
     "metadata": {},
     "output_type": "execute_result"
    }
   ],
   "source": [
    "from sklearn.ensemble import RandomForestClassifier\n",
    "mod_rfc=RandomForestClassifier()\n",
    "mod_rfc.fit(mod_x_train,mod_y_train)"
   ]
  },
  {
   "cell_type": "code",
   "execution_count": 99,
   "metadata": {},
   "outputs": [],
   "source": [
    "pred3=mod_rfc.predict(mod_x_test)"
   ]
  },
  {
   "cell_type": "code",
   "execution_count": 100,
   "metadata": {},
   "outputs": [
    {
     "data": {
      "text/plain": [
       "array([[57934,  3310],\n",
       "       [  470,    76]], dtype=int64)"
      ]
     },
     "execution_count": 100,
     "metadata": {},
     "output_type": "execute_result"
    }
   ],
   "source": [
    "from sklearn.metrics import confusion_matrix\n",
    "tab3=confusion_matrix(pred3,mod_y_test)\n",
    "tab3"
   ]
  },
  {
   "cell_type": "code",
   "execution_count": 101,
   "metadata": {},
   "outputs": [
    {
     "data": {
      "text/plain": [
       "0.9388250525975077"
      ]
     },
     "execution_count": 101,
     "metadata": {},
     "output_type": "execute_result"
    }
   ],
   "source": [
    "tab3.diagonal().sum()/tab3.sum()"
   ]
  },
  {
   "cell_type": "code",
   "execution_count": 218,
   "metadata": {},
   "outputs": [],
   "source": [
    "mod_x=mod\n",
    "mod_y=mod.label"
   ]
  },
  {
   "cell_type": "code",
   "execution_count": 219,
   "metadata": {},
   "outputs": [],
   "source": [
    "from sklearn.model_selection import train_test_split\n",
    "mod_x_train,mod_x_test,mod_y_train,mod_y_test=train_test_split(mod_x,mod_y,test_size=0.2,random_state=101)"
   ]
  },
  {
   "cell_type": "code",
   "execution_count": 220,
   "metadata": {},
   "outputs": [],
   "source": [
    "# from over sampling\n",
    "from sklearn.utils import resample\n",
    "df_majority=mod_x_train[mod_x_train.label==0]\n",
    "df_minority=mod_x_train[mod_x_train.label==1]"
   ]
  },
  {
   "cell_type": "code",
   "execution_count": 235,
   "metadata": {},
   "outputs": [],
   "source": [
    "df_mod=resample(df_minority,replace=True,n_samples=,random_state=101)"
   ]
  },
  {
   "cell_type": "code",
   "execution_count": 236,
   "metadata": {},
   "outputs": [
    {
     "data": {
      "text/plain": [
       "0    233965\n",
       "1      2000\n",
       "Name: label, dtype: int64"
      ]
     },
     "execution_count": 236,
     "metadata": {},
     "output_type": "execute_result"
    }
   ],
   "source": [
    "mod_new=pd.concat([df_majority, df_mod])\n",
    "mod_new.label.value_counts()"
   ]
  },
  {
   "cell_type": "code",
   "execution_count": 223,
   "metadata": {},
   "outputs": [],
   "source": [
    "mod_new_x=mod_new.drop([\"label\"],axis=1)\n",
    "mod_new_y=mod_new.label"
   ]
  },
  {
   "cell_type": "code",
   "execution_count": 203,
   "metadata": {},
   "outputs": [],
   "source": [
    "#from sklearn.model_selection import train_test_split\n",
    "#mod_x_train,mod_x_test,mod_y_train,mod_y_test=train_test_split(mod_new_x,mod_new_y,test_size=0.2,random_state=101)"
   ]
  },
  {
   "cell_type": "code",
   "execution_count": 224,
   "metadata": {},
   "outputs": [
    {
     "name": "stderr",
     "output_type": "stream",
     "text": [
      "C:\\Users\\hp\\Anaconda3\\lib\\site-packages\\sklearn\\ensemble\\forest.py:245: FutureWarning: The default value of n_estimators will change from 10 in version 0.20 to 100 in 0.22.\n",
      "  \"10 in version 0.20 to 100 in 0.22.\", FutureWarning)\n"
     ]
    },
    {
     "data": {
      "text/plain": [
       "RandomForestClassifier(bootstrap=True, class_weight=None, criterion='gini',\n",
       "                       max_depth=None, max_features='auto', max_leaf_nodes=None,\n",
       "                       min_impurity_decrease=0.0, min_impurity_split=None,\n",
       "                       min_samples_leaf=1, min_samples_split=2,\n",
       "                       min_weight_fraction_leaf=0.0, n_estimators=10,\n",
       "                       n_jobs=None, oob_score=False, random_state=None,\n",
       "                       verbose=0, warm_start=False)"
      ]
     },
     "execution_count": 224,
     "metadata": {},
     "output_type": "execute_result"
    }
   ],
   "source": [
    "from sklearn.ensemble import RandomForestClassifier\n",
    "mod_rfc=RandomForestClassifier()\n",
    "mod_rfc.fit(mod_new_x,mod_new_y)"
   ]
  },
  {
   "cell_type": "code",
   "execution_count": 226,
   "metadata": {},
   "outputs": [],
   "source": [
    "pred=mod_rfc.predict(mod_new_x)"
   ]
  },
  {
   "cell_type": "code",
   "execution_count": 227,
   "metadata": {},
   "outputs": [
    {
     "data": {
      "text/plain": [
       "array([[201966,  33921],\n",
       "       [ 31999, 258448]], dtype=int64)"
      ]
     },
     "execution_count": 227,
     "metadata": {},
     "output_type": "execute_result"
    }
   ],
   "source": [
    "from sklearn.metrics import confusion_matrix\n",
    "tab4=confusion_matrix(pred,mod_new_y)\n",
    "tab4"
   ]
  },
  {
   "cell_type": "code",
   "execution_count": 228,
   "metadata": {},
   "outputs": [
    {
     "data": {
      "text/plain": [
       "0.8747563334308633"
      ]
     },
     "execution_count": 228,
     "metadata": {},
     "output_type": "execute_result"
    }
   ],
   "source": [
    "tab4.diagonal().sum()/tab4.sum()"
   ]
  },
  {
   "cell_type": "code",
   "execution_count": 231,
   "metadata": {},
   "outputs": [
    {
     "data": {
      "text/plain": [
       "0    292369\n",
       "1     16579\n",
       "Name: label, dtype: int64"
      ]
     },
     "execution_count": 231,
     "metadata": {},
     "output_type": "execute_result"
    }
   ],
   "source": [
    "mod.label.value_counts()"
   ]
  },
  {
   "cell_type": "code",
   "execution_count": 237,
   "metadata": {},
   "outputs": [
    {
     "data": {
      "text/plain": [
       "0    233965\n",
       "1     13193\n",
       "Name: label, dtype: int64"
      ]
     },
     "execution_count": 237,
     "metadata": {},
     "output_type": "execute_result"
    }
   ],
   "source": [
    "mod_x_train.label.value_counts()"
   ]
  },
  {
   "cell_type": "markdown",
   "metadata": {},
   "source": [
    "## Adaptive Boosting"
   ]
  },
  {
   "cell_type": "code",
   "execution_count": 15,
   "metadata": {},
   "outputs": [],
   "source": [
    "from sklearn.tree import DecisionTreeClassifier\n",
    "from sklearn.ensemble import AdaBoostClassifier"
   ]
  },
  {
   "cell_type": "code",
   "execution_count": 17,
   "metadata": {},
   "outputs": [
    {
     "data": {
      "text/plain": [
       "AdaBoostClassifier(algorithm='SAMME.R',\n",
       "                   base_estimator=DecisionTreeClassifier(class_weight=None,\n",
       "                                                         criterion='gini',\n",
       "                                                         max_depth=None,\n",
       "                                                         max_features=None,\n",
       "                                                         max_leaf_nodes=None,\n",
       "                                                         min_impurity_decrease=0.0,\n",
       "                                                         min_impurity_split=None,\n",
       "                                                         min_samples_leaf=1,\n",
       "                                                         min_samples_split=2,\n",
       "                                                         min_weight_fraction_leaf=0.0,\n",
       "                                                         presort=False,\n",
       "                                                         random_state=None,\n",
       "                                                         splitter='best'),\n",
       "                   learning_rate=1.0, n_estimators=15, random_state=None)"
      ]
     },
     "execution_count": 17,
     "metadata": {},
     "output_type": "execute_result"
    }
   ],
   "source": [
    "abc=AdaBoostClassifier(DecisionTreeClassifier(),n_estimators=15)\n",
    "abc.fit(mod_x_train,mod_y_train)"
   ]
  },
  {
   "cell_type": "code",
   "execution_count": 20,
   "metadata": {},
   "outputs": [
    {
     "data": {
      "text/plain": [
       "array([0, 0, 0, ..., 0, 0, 0], dtype=int64)"
      ]
     },
     "execution_count": 20,
     "metadata": {},
     "output_type": "execute_result"
    }
   ],
   "source": [
    "pred5=abc.predict(mod_x_test)\n",
    "pred5"
   ]
  },
  {
   "cell_type": "code",
   "execution_count": 21,
   "metadata": {},
   "outputs": [
    {
     "data": {
      "text/plain": [
       "array([[57216,  3241],\n",
       "       [ 1188,   145]], dtype=int64)"
      ]
     },
     "execution_count": 21,
     "metadata": {},
     "output_type": "execute_result"
    }
   ],
   "source": [
    "from sklearn.metrics import confusion_matrix\n",
    "tab5=confusion_matrix(pred5,mod_y_test)\n",
    "tab5"
   ]
  },
  {
   "cell_type": "code",
   "execution_count": 22,
   "metadata": {},
   "outputs": [
    {
     "data": {
      "text/plain": [
       "0.9283217349085613"
      ]
     },
     "execution_count": 22,
     "metadata": {},
     "output_type": "execute_result"
    }
   ],
   "source": [
    "tab5.diagonal().sum()/tab5.sum()"
   ]
  },
  {
   "cell_type": "code",
   "execution_count": 64,
   "metadata": {},
   "outputs": [],
   "source": [
    "#over sampling\n",
    "mod_x=mod.drop([\"label\"],axis=1)\n",
    "mod_y=mod.label"
   ]
  },
  {
   "cell_type": "code",
   "execution_count": 65,
   "metadata": {},
   "outputs": [],
   "source": [
    "from sklearn.model_selection import train_test_split\n",
    "mod_x_train,mod_x_test,mod_y_train,mod_y_test=train_test_split(mod_x,mod_y,test_size=0.2,random_state=101)"
   ]
  },
  {
   "cell_type": "code",
   "execution_count": 66,
   "metadata": {},
   "outputs": [],
   "source": [
    "mod_X=pd.concat([mod_x_train,mod_y_train],axis=1)"
   ]
  },
  {
   "cell_type": "code",
   "execution_count": 67,
   "metadata": {},
   "outputs": [],
   "source": [
    "df_major=mod_X[mod_X.label==0]\n",
    "df_minor=mod_X[mod_X.label==1]"
   ]
  },
  {
   "cell_type": "code",
   "execution_count": 229,
   "metadata": {},
   "outputs": [],
   "source": [
    "from sklearn.utils import resample\n",
    "mod1=resample(df_minor,replace=True,n_samples=600000,random_state=100)"
   ]
  },
  {
   "cell_type": "code",
   "execution_count": 230,
   "metadata": {},
   "outputs": [],
   "source": [
    "mod_new=pd.concat([df_major,mod1])"
   ]
  },
  {
   "cell_type": "code",
   "execution_count": 231,
   "metadata": {},
   "outputs": [
    {
     "data": {
      "text/plain": [
       "1    600000\n",
       "0    233965\n",
       "Name: label, dtype: int64"
      ]
     },
     "execution_count": 231,
     "metadata": {},
     "output_type": "execute_result"
    }
   ],
   "source": [
    "mod_new.label.value_counts()"
   ]
  },
  {
   "cell_type": "code",
   "execution_count": 232,
   "metadata": {},
   "outputs": [],
   "source": [
    "mod_new_xtrain=mod_new.drop([\"label\"],axis=1)\n",
    "mod_new_ytrain=mod_new.label"
   ]
  },
  {
   "cell_type": "code",
   "execution_count": 233,
   "metadata": {},
   "outputs": [
    {
     "data": {
      "text/plain": [
       "AdaBoostClassifier(algorithm='SAMME.R',\n",
       "                   base_estimator=DecisionTreeClassifier(class_weight=None,\n",
       "                                                         criterion='gini',\n",
       "                                                         max_depth=None,\n",
       "                                                         max_features=None,\n",
       "                                                         max_leaf_nodes=None,\n",
       "                                                         min_impurity_decrease=0.0,\n",
       "                                                         min_impurity_split=None,\n",
       "                                                         min_samples_leaf=1,\n",
       "                                                         min_samples_split=2,\n",
       "                                                         min_weight_fraction_leaf=0.0,\n",
       "                                                         presort=False,\n",
       "                                                         random_state=None,\n",
       "                                                         splitter='best'),\n",
       "                   learning_rate=1.0, n_estimators=20, random_state=None)"
      ]
     },
     "execution_count": 233,
     "metadata": {},
     "output_type": "execute_result"
    }
   ],
   "source": [
    "from sklearn.tree import DecisionTreeClassifier\n",
    "from sklearn.ensemble import AdaBoostClassifier\n",
    "abc=AdaBoostClassifier(DecisionTreeClassifier(),n_estimators=20)\n",
    "abc.fit(mod_new_xtrain,mod_new_ytrain)"
   ]
  },
  {
   "cell_type": "code",
   "execution_count": 234,
   "metadata": {},
   "outputs": [],
   "source": [
    "pred6=abc.predict(mod_x_test)"
   ]
  },
  {
   "cell_type": "code",
   "execution_count": 235,
   "metadata": {},
   "outputs": [
    {
     "data": {
      "text/plain": [
       "array([[38749,  2209],\n",
       "       [19655,  1177]], dtype=int64)"
      ]
     },
     "execution_count": 235,
     "metadata": {},
     "output_type": "execute_result"
    }
   ],
   "source": [
    "from sklearn.metrics import confusion_matrix\n",
    "tab6=confusion_matrix(pred6,mod_y_test)\n",
    "tab6"
   ]
  },
  {
   "cell_type": "code",
   "execution_count": 236,
   "metadata": {},
   "outputs": [
    {
     "data": {
      "text/plain": [
       "0.6461563359766953"
      ]
     },
     "execution_count": 236,
     "metadata": {},
     "output_type": "execute_result"
    }
   ],
   "source": [
    "tab6.diagonal().sum()/tab6.sum()"
   ]
  },
  {
   "cell_type": "code",
   "execution_count": 237,
   "metadata": {},
   "outputs": [
    {
     "data": {
      "text/plain": [
       "0.3476077968103958"
      ]
     },
     "execution_count": 237,
     "metadata": {},
     "output_type": "execute_result"
    }
   ],
   "source": [
    "1177/(1177+2209)"
   ]
  },
  {
   "cell_type": "code",
   "execution_count": 238,
   "metadata": {},
   "outputs": [
    {
     "data": {
      "text/plain": [
       "0.6634648311759469"
      ]
     },
     "execution_count": 238,
     "metadata": {},
     "output_type": "execute_result"
    }
   ],
   "source": [
    "38749/(38749+19655)"
   ]
  },
  {
   "cell_type": "code",
   "execution_count": 70,
   "metadata": {},
   "outputs": [
    {
     "data": {
      "text/plain": [
       "0    292369\n",
       "1     16579\n",
       "Name: label, dtype: int64"
      ]
     },
     "execution_count": 70,
     "metadata": {},
     "output_type": "execute_result"
    }
   ],
   "source": [
    "mod.label.value_counts()"
   ]
  },
  {
   "cell_type": "code",
   "execution_count": 71,
   "metadata": {},
   "outputs": [
    {
     "data": {
      "text/plain": [
       "21579"
      ]
     },
     "execution_count": 71,
     "metadata": {},
     "output_type": "execute_result"
    }
   ],
   "source": [
    "16579+5000"
   ]
  },
  {
   "cell_type": "code",
   "execution_count": 13,
   "metadata": {},
   "outputs": [
    {
     "data": {
      "text/plain": [
       "array([4.33889538e+02, 1.75326627e+02, 4.25175418e+01, 9.39411316e+02,\n",
       "       1.70429341e+02, 7.50700965e+01, 7.01368737e+02, 4.04147715e+02,\n",
       "       7.84064521e+01, 1.41253552e+07, 1.23734625e+03, 1.05445792e+02,\n",
       "       1.46126623e+02])"
      ]
     },
     "execution_count": 13,
     "metadata": {},
     "output_type": "execute_result"
    }
   ],
   "source": [
    "#feature selection\n",
    "from sklearn.feature_selection import SelectKBest\n",
    "from sklearn.feature_selection import chi2\n",
    "test=SelectKBest(score_func=chi2,k='all')\n",
    "fited=test.fit(mod_x,mod_y)\n",
    "fited.scores_"
   ]
  },
  {
   "cell_type": "code",
   "execution_count": null,
   "metadata": {},
   "outputs": [],
   "source": []
  }
 ],
 "metadata": {
  "kernelspec": {
   "display_name": "Python 3",
   "language": "python",
   "name": "python3"
  },
  "language_info": {
   "codemirror_mode": {
    "name": "ipython",
    "version": 3
   },
   "file_extension": ".py",
   "mimetype": "text/x-python",
   "name": "python",
   "nbconvert_exporter": "python",
   "pygments_lexer": "ipython3",
   "version": "3.7.4"
  }
 },
 "nbformat": 4,
 "nbformat_minor": 2
}
